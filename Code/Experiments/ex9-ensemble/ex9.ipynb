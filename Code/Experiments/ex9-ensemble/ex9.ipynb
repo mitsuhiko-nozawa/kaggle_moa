{
 "cells": [
  {
   "cell_type": "code",
   "execution_count": 2,
   "metadata": {},
   "outputs": [],
   "source": [
    "import warnings, random, os, sys, tqdm, time\n",
    "sys.path.append(\"../\")\n",
    "warnings.filterwarnings('ignore')\n",
    "\n",
    "import numpy as np\n",
    "import pandas as pd\n",
    "import matplotlib.pyplot as plt\n",
    "\n",
    "\n",
    "from sklearn.decomposition import PCA\n",
    "from sklearn.feature_selection import VarianceThreshold\n",
    "from sklearn.metrics import log_loss\n",
    "from sklearn.preprocessing import StandardScaler, MinMaxScaler, QuantileTransformer, RobustScaler\n",
    "\n",
    "from iterstrat.ml_stratifiers import MultilabelStratifiedKFold\n",
    "from sklearn.model_selection import KFold\n",
    "\n",
    "import torch\n",
    "from torch import nn\n",
    "import torch.optim as optim\n",
    "import torch.nn.functional as F\n",
    "from torch.nn.modules.loss import _WeightedLoss\n",
    "from torch.optim.lr_scheduler import ReduceLROnPlateau\n",
    "\n",
    "from pytorch_tabnet.tab_model import TabNetRegressor\n",
    "os.environ[\"CUDA_LAUNCH_BLOCKING\"] = \"1\"\n",
    "\n",
    "pd.set_option(\"display.max_columns\", 1200)\n",
    "pd.set_option(\"display.max_rows\", 1200)\n",
    "%matplotlib inline\n",
    "\n"
   ]
  },
  {
   "cell_type": "code",
   "execution_count": 3,
   "metadata": {},
   "outputs": [],
   "source": [
    "def metric(y_true, y_pred):\n",
    "    res = []\n",
    "    for i in range(0, y_true.shape[1]):\n",
    "        y = y_true[:,i]\n",
    "        pred = y_pred[:,i]\n",
    "        res.append(log_loss(y, pred))\n",
    "    return np.mean(res)\n",
    "\n",
    "def seed_everything(seed_value):\n",
    "    random.seed(seed_value)\n",
    "    np.random.seed(seed_value)\n",
    "    torch.manual_seed(seed_value)\n",
    "    os.environ['PYTHONHASHSEED'] = str(seed_value)\n",
    "    \n",
    "    if torch.cuda.is_available(): \n",
    "        torch.cuda.manual_seed(seed_value)\n",
    "        torch.cuda.manual_seed_all(seed_value)\n",
    "        torch.backends.cudnn.deterministic = True\n",
    "        torch.backends.cudnn.benchmark = True\n",
    "seed_everything(42)\n",
    "        \n",
    "    \n",
    "def make_scaler(flag, seed):\n",
    "    if flag == \"quantile\":\n",
    "        return QuantileTransformer(n_quantiles=100,random_state=seed, output_distribution=\"normal\")\n",
    "    elif flag == \"gauss\":\n",
    "        return GaussRankScaler()\n",
    "    elif flag == \"standard\":\n",
    "        return StandardScaler()\n",
    "    elif flag == \"minmax\":\n",
    "        return MinMaxScaler()\n",
    "    elif flag == \"robust\":\n",
    "        return RobustScaler()\n",
    "    \n",
    "seeds = [7, 8, 9, 10, 11, 12, 13]\n",
    "SCALE = \"quantile\"\n",
    "    \n"
   ]
  },
  {
   "cell_type": "code",
   "execution_count": 4,
   "metadata": {},
   "outputs": [],
   "source": [
    "resnet_preds = pd.read_csv(\"../ex8-resnet/train_preds.csv\")\n",
    "dnn_preds = pd.read_csv(\"../ex7-DNN-FE/train_preds.csv\")\n",
    "tabnet_preds = pd.read_csv(\"../ex5-TabNet-FE/train_preds.csv\")\n",
    "y = pd.read_csv(\"../../../Data/Raw/train_targets_scored.csv\")\n",
    "\n",
    "resnet_preds = resnet_preds.drop(\"sig_id\", axis=1).values\n",
    "dnn_preds = dnn_preds.drop(\"sig_id\", axis=1).values\n",
    "tabnet_preds = tabnet_preds.drop(\"sig_id\", axis=1).values\n",
    "y = y.drop(\"sig_id\", axis=1).values"
   ]
  },
  {
   "cell_type": "code",
   "execution_count": 5,
   "metadata": {},
   "outputs": [
    {
     "name": "stdout",
     "output_type": "stream",
     "text": [
      "0.01570424092946404\n"
     ]
    }
   ],
   "source": [
    "print(metric(y, resnet_preds))"
   ]
  },
  {
   "cell_type": "code",
   "execution_count": 6,
   "metadata": {},
   "outputs": [
    {
     "name": "stdout",
     "output_type": "stream",
     "text": [
      "0.015633094022344574\n"
     ]
    }
   ],
   "source": [
    "print(metric(y, dnn_preds))"
   ]
  },
  {
   "cell_type": "code",
   "execution_count": 7,
   "metadata": {},
   "outputs": [
    {
     "name": "stdout",
     "output_type": "stream",
     "text": [
      "0.01568500708434628\n"
     ]
    }
   ],
   "source": [
    "print(metric(y, tabnet_preds))"
   ]
  },
  {
   "cell_type": "code",
   "execution_count": 15,
   "metadata": {
    "scrolled": true
   },
   "outputs": [
    {
     "name": "stdout",
     "output_type": "stream",
     "text": [
      "0 0 100 0.01568500708434628\n",
      "0 5 95 0.01566692664294131\n",
      "0 10 90 0.01565249699865784\n",
      "0 15 85 0.015640680321951785\n",
      "0 20 80 0.01563105035187033\n",
      "0 25 75 0.015623351289185124\n",
      "0 30 70 0.015617411351904538\n",
      "0 35 65 0.015613109974208693\n",
      "0 40 60 0.015610362069616187\n",
      "0 45 55 0.015609109645654436\n",
      "5 20 75 0.015603408275155951\n",
      "5 25 70 0.015597498499506335\n",
      "5 30 65 0.015593181361653573\n",
      "5 35 60 0.015590376473746026\n",
      "5 40 55 0.015589028699396653\n",
      "10 15 75 0.015588626361806066\n",
      "10 20 70 0.01558248599324071\n",
      "10 25 65 0.015577944157282968\n",
      "10 30 60 0.015574913989977082\n",
      "10 35 55 0.015573335935325507\n",
      "10 40 50 0.015573172413015337\n",
      "15 15 70 0.015570765999093175\n",
      "15 20 65 0.01556588266271164\n",
      "15 25 60 0.015562532031675562\n",
      "15 30 55 0.015560645879857324\n",
      "15 35 50 0.015560180453571928\n",
      "20 15 65 0.015556402539768923\n",
      "20 20 60 0.015552653092742723\n",
      "20 25 55 0.015550395712851307\n",
      "20 30 50 0.015549577411778382\n",
      "25 10 65 0.015549207331975718\n",
      "25 15 60 0.01554497939210508\n",
      "25 20 55 0.015542288653627107\n",
      "25 25 50 0.015541068131873139\n",
      "30 10 60 0.015539351755486942\n",
      "30 15 55 0.015536157849042711\n",
      "30 20 50 0.015534481328874755\n",
      "30 25 45 0.015534269321456457\n",
      "35 10 55 0.015531917653064787\n",
      "35 15 50 0.015529720935554261\n",
      "35 20 45 0.015529037386627502\n",
      "40 10 50 0.015526746474358812\n",
      "40 15 45 0.015525530565593242\n",
      "45 10 45 0.015523739220830154\n",
      "45 15 40 0.015523506632997387\n",
      "50 10 40 0.015522844392748546\n"
     ]
    }
   ],
   "source": [
    "global best_i, best_j, best_k, best_score\n",
    "best_i=0\n",
    "best_j=0\n",
    "best_k=0\n",
    "best_score=10\n",
    "for i in range(0, 105, 5):\n",
    "    for j in range(0, 105, 5):\n",
    "        k= 100 - i - j\n",
    "        if k < 0:\n",
    "            break\n",
    "        score = metric(y, dnn_preds*(i/100) + resnet_preds*(j/100) + tabnet_preds*(k/100))\n",
    "        if score < best_score:\n",
    "            best_i = i\n",
    "            best_j = j\n",
    "            best_k = k\n",
    "            best_score = score\n",
    "            print(best_i, best_j, best_k, best_score)\n",
    "            #print(i, j, k, metric(y, dnn_preds*(i/100) + resnet_preds*(j/100) + tabnet_preds*(k/100)))"
   ]
  },
  {
   "cell_type": "code",
   "execution_count": 16,
   "metadata": {},
   "outputs": [
    {
     "name": "stdout",
     "output_type": "stream",
     "text": [
      "0.015522844392748546\n"
     ]
    }
   ],
   "source": [
    "preds2 = dnn_preds*0.5 + resnet_preds*0.1 + tabnet_preds*0.4\n",
    "print(metric(y, preds2))"
   ]
  },
  {
   "cell_type": "code",
   "execution_count": 19,
   "metadata": {},
   "outputs": [],
   "source": [
    "resnet_sub = pd.read_csv(\"../ex8-resnet/submission.csv\").drop(\"sig_id\", axis=1).values\n",
    "dnn_sub = pd.read_csv(\"../ex7-DNN-FE/submission.csv\").drop(\"sig_id\", axis=1).values\n",
    "tabnet_sub = pd.read_csv(\"../ex5-TabNet-FE/submission.csv\").drop(\"sig_id\", axis=1).values\n",
    "\n",
    "preds2 = dnn_sub*0.5 + resnet_sub*0.1 + tabnet_sub*0.4\n",
    "sub_df = pd.read_csv(\"../../../Data/Raw/sample_submission.csv\")\n",
    "#sub_df = pd.read_csv(\"../input/lish-moa/sample_submission.csv\")\n",
    "cols = [col for col in sub_df.columns if col != \"sig_id\"]\n",
    "sub_df[cols] = preds2\n",
    "sub_df.to_csv(\"submission.csv\", index=False)"
   ]
  },
  {
   "cell_type": "code",
   "execution_count": null,
   "metadata": {},
   "outputs": [],
   "source": []
  }
 ],
 "metadata": {
  "kernelspec": {
   "display_name": "ML2",
   "language": "python",
   "name": "ml2"
  },
  "language_info": {
   "codemirror_mode": {
    "name": "ipython",
    "version": 3
   },
   "file_extension": ".py",
   "mimetype": "text/x-python",
   "name": "python",
   "nbconvert_exporter": "python",
   "pygments_lexer": "ipython3",
   "version": "3.7.6"
  }
 },
 "nbformat": 4,
 "nbformat_minor": 4
}
